{
 "cells": [
  {
   "cell_type": "code",
   "execution_count": 14,
   "id": "0d77a66a",
   "metadata": {},
   "outputs": [],
   "source": [
    "import pandas as pd"
   ]
  },
  {
   "cell_type": "code",
   "execution_count": 11,
   "id": "e5eb3de4",
   "metadata": {},
   "outputs": [],
   "source": [
    "api = \"\""
   ]
  },
  {
   "cell_type": "code",
   "execution_count": 12,
   "id": "977f3256",
   "metadata": {},
   "outputs": [],
   "source": [
    "import google.generativeai as genai\n",
    "\n",
    "genai.configure(api_key=api)\n",
    "model = genai.GenerativeModel(model_name=\"gemini-1.5-flash-latest\")"
   ]
  },
  {
   "cell_type": "code",
   "execution_count": 13,
   "id": "bc176223",
   "metadata": {},
   "outputs": [
    {
     "name": "stdout",
     "output_type": "stream",
     "text": [
      "parts {\n",
      "  text: \"Paris\\n\"\n",
      "}\n",
      "role: \"model\"\n",
      "\n"
     ]
    }
   ],
   "source": [
    "prompt = \"What is the capital of France?\"\n",
    "response = model.generate_content(contents = prompt)\n",
    "\n",
    "print(response.candidates[0].content)"
   ]
  },
  {
   "cell_type": "code",
   "execution_count": 15,
   "id": "bd74a2e0",
   "metadata": {},
   "outputs": [],
   "source": [
    "import PyPDF2\n",
    "\n",
    "def extract_text_from_pdf(pdf_path):\n",
    "    with open(pdf_path, 'rb') as file:\n",
    "        reader = PyPDF2.PdfReader(file)\n",
    "        text = \"\"\n",
    "        for page in reader.pages:\n",
    "            text += page.extract_text()\n",
    "    return text\n",
    "\n",
    "df = extract_text_from_pdf(\"CV_Shikhar.pdf\")"
   ]
  },
  {
   "cell_type": "code",
   "execution_count": null,
   "id": "73cb8c4d",
   "metadata": {},
   "outputs": [
    {
     "name": "stdout",
     "output_type": "stream",
     "text": [
      "parts {\n",
      "  text: \"Souharda Shikhar Biswas is a third-year B.Tech Computer Science & Engineering student at Adamas University (SGPA 8.94) with experience as a software developer (ICCRO, The Future Network Official) and a software development intern at Katsi Canada (co-developed an OFAC List Checking Web Application).  He\\'s also a Junior Research Collaborator and active in Adamas Robotics and AI Club.  His skills include full-stack development (HTML, CSS, JavaScript, Python, Java, C), AI, machine learning, and tools like Figma and Git.  He\\'s completed relevant certifications (IBM, upGrad, Invest India) and participated in hackathons (InnovateX, ByteRunners), showcasing projects like a JD-CV Analyzer web application using AWS.  His LinkedIn and GitHub profiles are provided.\\n\"\n",
      "}\n",
      "role: \"model\"\n",
      "\n"
     ]
    }
   ],
   "source": [
    "prompt = f\"Summarize the following text:\\n{df}\"\n",
    "\n",
    "response = model.generate_content(contents=prompt)\n",
    "\n",
    "print(response.candidates[0].content)\n",
    "\n"
   ]
  },
  {
   "cell_type": "code",
   "execution_count": 24,
   "id": "1e1cb0dd",
   "metadata": {},
   "outputs": [
    {
     "name": "stdout",
     "output_type": "stream",
     "text": [
      "\n",
      "Bot: Hi there! How can I help you today?\n",
      "--------------------------------------------------\n"
     ]
    }
   ],
   "source": [
    "prompt = \" \"\n",
    "\n",
    "while prompt.lower() != \"exit\":\n",
    "    prompt = input(\"Enter your question (or type 'exit' to quit): \")\n",
    "    if prompt.lower() == \"exit\":\n",
    "        break\n",
    "    response = model.generate_content(contents=prompt)\n",
    "    print(\"\\nBot:\", response.candidates[0].content.parts[0].text.strip())\n",
    "    print(\"-\" * 50)"
   ]
  }
 ],
 "metadata": {
  "kernelspec": {
   "display_name": "myenv",
   "language": "python",
   "name": "python3"
  },
  "language_info": {
   "codemirror_mode": {
    "name": "ipython",
    "version": 3
   },
   "file_extension": ".py",
   "mimetype": "text/x-python",
   "name": "python",
   "nbconvert_exporter": "python",
   "pygments_lexer": "ipython3",
   "version": "3.10.11"
  }
 },
 "nbformat": 4,
 "nbformat_minor": 5
}
